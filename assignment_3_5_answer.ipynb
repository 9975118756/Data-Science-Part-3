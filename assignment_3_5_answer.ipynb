{
  "nbformat": 4,
  "nbformat_minor": 0,
  "metadata": {
    "colab": {
      "provenance": []
    },
    "kernelspec": {
      "name": "python3",
      "display_name": "Python 3"
    },
    "language_info": {
      "name": "python"
    }
  },
  "cells": [
    {
      "cell_type": "code",
      "execution_count": 3,
      "metadata": {
        "id": "SdfF4UCCrRxz"
      },
      "outputs": [],
      "source": [
        "import numpy as np\n",
        "from scipy import stats\n",
        "from scipy.stats import norm"
      ]
    },
    {
      "cell_type": "code",
      "source": [
        "Mean=5+7\n",
        "print('Mean Profit is Rs', Mean*45,'Million')\n"
      ],
      "metadata": {
        "colab": {
          "base_uri": "https://localhost:8080/"
        },
        "id": "GR5Dnib8rg_Z",
        "outputId": "0455a054-223b-47e8-d392-9ca6f7aaf408"
      },
      "execution_count": 1,
      "outputs": [
        {
          "output_type": "stream",
          "name": "stdout",
          "text": [
            "Mean Profit is Rs 540 Million\n"
          ]
        }
      ]
    },
    {
      "cell_type": "code",
      "source": [
        "#Variance of profits\n",
        "SD=np.sqrt((9)+(16))\n",
        "print('Standard Deviation is Rs',SD*45,'Million')"
      ],
      "metadata": {
        "colab": {
          "base_uri": "https://localhost:8080/"
        },
        "id": "xprE6NOYrzn6",
        "outputId": "eb107f3b-77e3-4a5f-f242-55a04d346e1d"
      },
      "execution_count": 4,
      "outputs": [
        {
          "output_type": "stream",
          "name": "stdout",
          "text": [
            "Standard Deviation is Rs 225.0 Million\n"
          ]
        }
      ]
    },
    {
      "cell_type": "code",
      "source": [
        "#A .A.\tSpecify a Rupee range (centered on the mean) such that it contains 95% probability for the annual profit of the company.\n",
        "print('Range is Rs',(stats.norm.interval(0.95,540,225)),'in Millions')"
      ],
      "metadata": {
        "colab": {
          "base_uri": "https://localhost:8080/"
        },
        "id": "cBxarsJ3sQEC",
        "outputId": "1add1526-20e5-4863-9b56-334ecbf5c058"
      },
      "execution_count": 5,
      "outputs": [
        {
          "output_type": "stream",
          "name": "stdout",
          "text": [
            "Range is Rs (99.00810347848784, 980.9918965215122) in Millions\n"
          ]
        }
      ]
    },
    {
      "cell_type": "code",
      "source": [
        "#B B.\tSpecify the 5th percentile of profit (in Rupees) for the company\n",
        "X=540+(-1.645)*(225)\n",
        "print('5th percentile of profit (in millions rupees) is',np.round(X,))"
      ],
      "metadata": {
        "colab": {
          "base_uri": "https://localhost:8080/"
        },
        "id": "TVvLXerVshsm",
        "outputId": "ad9afbcc-d854-43c3-8bdf-24d5aa3ebe8d"
      },
      "execution_count": 6,
      "outputs": [
        {
          "output_type": "stream",
          "name": "stdout",
          "text": [
            "5th percentile of profit (in millions rupees) is 170.0\n"
          ]
        }
      ]
    },
    {
      "cell_type": "code",
      "source": [
        "#C.\tWhich of the two divisions has a larger probability of making a loss in a given year?\n",
        "#Probability of division 1 making a loss P(X<0)\n",
        "stats.norm.cdf(0.5,3)\n"
      ],
      "metadata": {
        "colab": {
          "base_uri": "https://localhost:8080/"
        },
        "id": "nn0JN4wgs5aI",
        "outputId": "86b06efb-3c10-4484-b5df-bc0cddf9b3fa"
      },
      "execution_count": 7,
      "outputs": [
        {
          "output_type": "execute_result",
          "data": {
            "text/plain": [
              "0.006209665325776132"
            ]
          },
          "metadata": {},
          "execution_count": 7
        }
      ]
    },
    {
      "cell_type": "code",
      "source": [
        "#Probability of Division 2 making a loss P(X<0)\n",
        "stats.norm.cdf(0.7,4)\n"
      ],
      "metadata": {
        "colab": {
          "base_uri": "https://localhost:8080/"
        },
        "id": "VxBUUQVVtIZv",
        "outputId": "eacbabef-316e-4358-f4b6-d2b173b77d83"
      },
      "execution_count": 9,
      "outputs": [
        {
          "output_type": "execute_result",
          "data": {
            "text/plain": [
              "0.00048342414238377744"
            ]
          },
          "metadata": {},
          "execution_count": 9
        }
      ]
    }
  ]
}